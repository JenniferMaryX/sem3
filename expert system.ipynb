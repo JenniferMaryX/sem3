{
 "cells": [
  {
   "cell_type": "markdown",
   "id": "3e9038d3",
   "metadata": {},
   "source": [
    " ### expert system\n"
   ]
  },
  {
   "cell_type": "code",
   "execution_count": 1,
   "id": "0db7b7d6",
   "metadata": {},
   "outputs": [],
   "source": [
    "import time"
   ]
  },
  {
   "cell_type": "code",
   "execution_count": 8,
   "id": "8e49c053",
   "metadata": {},
   "outputs": [
    {
     "name": "stdout",
     "output_type": "stream",
     "text": [
      "\t\t welcome to automobil ai expert system \t\t\n",
      "\n",
      "\n",
      " ai : do you have any problem with your vehical?(s/n)\n",
      "\n",
      "you: s\n",
      "\n",
      " enter the type of your issues list down below:\n",
      " 1.starting trouble \n",
      " 2. woubble while driving\n",
      " 3.i didn't have issues\n",
      "\n",
      " enter here(numbers only): 2\n",
      "\n",
      " ai: ok let me think....\n",
      ". . . . . . . . . . . . . . . . . . . \n",
      " ai: when do you feel the woubbling \n",
      " 1. while drive on the highway at terrible speed \n",
      " 2. while drive normal road \n",
      "\n",
      "you:2\n",
      "\n",
      " ai: check your tire air pressure then check inform me kindly\n",
      "\n",
      " ai: still do you feel woubble?(s/n)\n",
      "\n",
      "you: s\n",
      "\n",
      " ai: i think, you have to make a phone call to your service center.....\n",
      " thank you\n"
     ]
    }
   ],
   "source": [
    "print(\"\\t\\t welcome to automobil ai expert system \\t\\t\")\n",
    "print(\"\\n\\n ai : do you have any problem with your vehical?(s/n)\\n\")\n",
    "choice1=input(\"you: \")\n",
    "\n",
    "if choice1==\"s\":\n",
    "    print(\"\\n enter the type of your issues list down below:\\n 1.starting trouble \\n 2. woubble while driving\\n 3.i didn't have issues\")\n",
    "    choice2=input(\"\\n enter here(numbers only): \")\n",
    "    \n",
    "    if choice2>\"3\" or choice2<\"1\":\n",
    "        print(\"\\n ai: please enter a valid key..\")\n",
    "        \n",
    "    elif choice2==\"3\":\n",
    "        print(\"\\n ai: then y did you enter s.....\")\n",
    "        \n",
    "    elif choice2==\"2\":\n",
    "        print(\"\\n ai: ok let me think....\")\n",
    "        for i in range(1,20):\n",
    "            time.sleep(0.08)\n",
    "            print(\".\",flush=True,end=\" \")\n",
    "        print(\"\\n ai: when do you feel the woubbling \\n 1. while drive on the highway at terrible speed \\n 2. while drive normal road \\n\")\n",
    "        \n",
    "        choice3=input(\"you:\")\n",
    "        \n",
    "        if choice3==\"1\":\n",
    "            print(\"\\n ai: please wait still....\\n ai: go slow ......\")\n",
    "            \n",
    "        elif choice3==\"2\":\n",
    "            print(\"\\n ai: check your tire air pressure then check inform me kindly\")\n",
    "            print(\"\\n ai: still do you feel woubble?(s/n)\\n\")\n",
    "            choice4=input(\"you: \")\n",
    "            \n",
    "            if choice4==\"n\":\n",
    "                print(\"\\n ai: i'm glad to help you ...\\n thank you..\\n call me again....\")\n",
    "                \n",
    "            elif choice4==\"s\":\n",
    "                print(\"\\n ai: i think, you have to make a phone call to your service center.....\\n ai: thank you\")\n",
    "            else:\n",
    "                print(\"\\n ai: will you please enter the correct answer.....\")\n",
    "                \n",
    "        else:\n",
    "            print(\"\\n ai: please enter the valid key\")\n",
    "    \n",
    "    else:\n",
    "        print(\"\\n ai: let me remember that you have to check that  the key is inserted ? \\n ai: is it inserted ?(s/n)\")\n",
    "        choice5=input(\"\\n you:\")\n",
    "        \n",
    "        if choice5==\"n\":\n",
    "            print(\"\\n ai: i think you have study hard..... better then ride a bike...\\n ai: thank you....!\")\n",
    "        \n",
    "        elif choice5==\"s\":\n",
    "            print(\"\\n ai: oh i see.....let me think what to do wait ...\\n\")\n",
    "            \n",
    "            for i in range (1,30):\n",
    "                time.sleep(0.08)\n",
    "                print(\".\",flush=True,end=\" \")\n",
    "                \n",
    "            print(\"\\n\\n ai: sorry buddy i dont know ........ \\n i think you have to reach service center.....\")\n",
    "            \n",
    "        else:\n",
    "            print(\"\\n ai i'm getting bore when you enter the wrong answer...\")\n",
    "            \n",
    "elif choice1==\"n\":\n",
    "    print(\"\\n ai: then why did you waste my time\")\n",
    "    \n",
    "else:\n",
    "    print(\"\\n ai: please enter a valid key\")\n",
    "        \n",
    "        \n",
    "                "
   ]
  },
  {
   "cell_type": "markdown",
   "id": "c585feb5",
   "metadata": {},
   "source": []
  }
 ],
 "metadata": {
  "kernelspec": {
   "display_name": "Python 3 (ipykernel)",
   "language": "python",
   "name": "python3"
  },
  "language_info": {
   "codemirror_mode": {
    "name": "ipython",
    "version": 3
   },
   "file_extension": ".py",
   "mimetype": "text/x-python",
   "name": "python",
   "nbconvert_exporter": "python",
   "pygments_lexer": "ipython3",
   "version": "3.11.5"
  }
 },
 "nbformat": 4,
 "nbformat_minor": 5
}
