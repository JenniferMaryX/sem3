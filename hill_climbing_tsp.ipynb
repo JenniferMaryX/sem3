{
 "cells": [
  {
   "cell_type": "markdown",
   "id": "c9d61350",
   "metadata": {},
   "source": [
    "# TRAVELLING SALES PERSON\n",
    "\n",
    "## finding the best possible shortest route among these cities to travel\n",
    "\n",
    "##### chennai-bangalore=347\n",
    "##### chennai-delhi=2196\n",
    "##### chennai-kolkata=1667\n",
    "##### bangalore-delhi=2164\n",
    "##### bangalore-kolkata=1875\n",
    "##### delhi-kolkata=1559\n",
    "\n",
    "## ALL VALUES IN KMS"
   ]
  },
  {
   "cell_type": "markdown",
   "id": "1e600da6",
   "metadata": {},
   "source": [
    "# IMPORTING RANDOM LIBRARY"
   ]
  },
  {
   "cell_type": "code",
   "execution_count": 12,
   "id": "8d8a1063",
   "metadata": {},
   "outputs": [],
   "source": [
    "import random"
   ]
  },
  {
   "cell_type": "code",
   "execution_count": 13,
   "id": "45b4ab3c",
   "metadata": {},
   "outputs": [],
   "source": [
    "tsp=[[0,347,2196,1667],\n",
    "     [347,0,2164,1875],\n",
    "     [2196,2164,0,1559],\n",
    "     [1667,1875,1599,0]]"
   ]
  },
  {
   "cell_type": "code",
   "execution_count": 14,
   "id": "a44fe15e",
   "metadata": {},
   "outputs": [],
   "source": [
    "def randomSolution(tsp):\n",
    "    cities=list(range(len(tsp)))\n",
    "    solution=[]\n",
    "    \n",
    "    for i in range(len(tsp)):\n",
    "        randomCity=cities[random.randint(0,len(cities)-1)]\n",
    "        solution.append(randomCity)\n",
    "        cities.remove(randomCity)\n",
    "    \n",
    "    return solution"
   ]
  },
  {
   "cell_type": "code",
   "execution_count": 30,
   "id": "06def177",
   "metadata": {},
   "outputs": [
    {
     "name": "stdout",
     "output_type": "stream",
     "text": [
      "[1, 3, 0, 2]\n"
     ]
    }
   ],
   "source": [
    "solution=randomSolution(tsp)\n",
    "print(solution)"
   ]
  },
  {
   "cell_type": "markdown",
   "id": "16377144",
   "metadata": {},
   "source": [
    "#### 0 - chennai\n",
    "#### 1 - bangalore\n",
    "#### 2 - delhi\n",
    "#### 3 - kolkata"
   ]
  },
  {
   "cell_type": "markdown",
   "id": "3d7c7b78",
   "metadata": {},
   "source": [
    "## calculating length of the route"
   ]
  },
  {
   "cell_type": "code",
   "execution_count": 31,
   "id": "87aa1248",
   "metadata": {},
   "outputs": [],
   "source": [
    "def routelength(tsp,solution):\n",
    "    routelength=0\n",
    "    for i in range(len(solution)):\n",
    "        routelength+=tsp[solution[i-1]][solution[i]]\n",
    "    return routelength"
   ]
  },
  {
   "cell_type": "code",
   "execution_count": 32,
   "id": "d987cc36",
   "metadata": {},
   "outputs": [
    {
     "data": {
      "text/plain": [
       "7902"
      ]
     },
     "execution_count": 32,
     "metadata": {},
     "output_type": "execute_result"
    }
   ],
   "source": [
    "routelength(tsp,solution)"
   ]
  },
  {
   "cell_type": "markdown",
   "id": "aeeda687",
   "metadata": {},
   "source": [
    "## generating neighbours"
   ]
  },
  {
   "cell_type": "code",
   "execution_count": 33,
   "id": "10c6ccee",
   "metadata": {},
   "outputs": [],
   "source": [
    "def getNeighbours(solution):\n",
    "    neighbours=[]\n",
    "    for i in range(len(solution)):\n",
    "        for j in range(i+1,len(solution)):\n",
    "            neighbour=solution.copy()\n",
    "            neighbour[i]=solution[j]\n",
    "            neighbour[j]=solution[i]\n",
    "            neighbours.append(neighbour)\n",
    "    return neighbours"
   ]
  },
  {
   "cell_type": "code",
   "execution_count": 34,
   "id": "7954df3a",
   "metadata": {},
   "outputs": [
    {
     "name": "stdout",
     "output_type": "stream",
     "text": [
      "[[3, 1, 0, 2], [0, 3, 1, 2], [2, 3, 0, 1], [1, 0, 3, 2], [1, 2, 0, 3], [1, 3, 2, 0]]\n"
     ]
    }
   ],
   "source": [
    "neighbours=getNeighbours(solution)\n",
    "print(neighbours)"
   ]
  },
  {
   "cell_type": "markdown",
   "id": "aa6f5899",
   "metadata": {},
   "source": [
    "### finding best neighbour"
   ]
  },
  {
   "cell_type": "code",
   "execution_count": 35,
   "id": "54bb7ce1",
   "metadata": {},
   "outputs": [],
   "source": [
    "def getBestNeighbour(tsp,neighbours):\n",
    "    bestRouteLength=routelength(tsp,neighbours[0])\n",
    "    bestNeighbour=neighbours[0]\n",
    "    for neighbour in neighbours:\n",
    "        currentRouteLength=routelength(tsp,neighbour)\n",
    "        if currentRouteLength<bestRouteLength:\n",
    "            bestRouteLength=currentRouteLength\n",
    "            bestneighbour=neighbour\n",
    "    return bestNeighbour,bestRouteLength"
   ]
  },
  {
   "cell_type": "code",
   "execution_count": 36,
   "id": "44a85d85",
   "metadata": {},
   "outputs": [
    {
     "data": {
      "text/plain": [
       "([3, 1, 0, 2], 5737)"
      ]
     },
     "execution_count": 36,
     "metadata": {},
     "output_type": "execute_result"
    }
   ],
   "source": [
    "getBestNeighbour(tsp,neighbours)"
   ]
  },
  {
   "cell_type": "markdown",
   "id": "2ccccf09",
   "metadata": {},
   "source": [
    "## hill climbing solution"
   ]
  },
  {
   "cell_type": "code",
   "execution_count": 39,
   "id": "f866dfc9",
   "metadata": {},
   "outputs": [],
   "source": [
    "def hillClimbing(tsp):\n",
    "    currentSolution=randomSolution(tsp)\n",
    "    currentRouteLength=routelength(tsp,currentSolution)\n",
    "    neighbours=getNeighbours(currentSolution)\n",
    "    bestNeighbour,bestNeighbourRouteLength=getBestNeighbour(tsp,neighbours)\n",
    "    \n",
    "    while bestNeighbourRouteLength<currentRouteLength:\n",
    "        currentSolution=bestNeighbour\n",
    "        currentRouteLength=bestNeighbourRouteLength\n",
    "        neighbours=getNeighbours(currentSolution)\n",
    "        bestNeighbour,bestNeighbourRouteLength=getBestNeighbour(tsp,neighbours)\n",
    "    return currentSolution,currentRouteLength"
   ]
  },
  {
   "cell_type": "code",
   "execution_count": 41,
   "id": "fc4de7e2",
   "metadata": {},
   "outputs": [
    {
     "name": "stdout",
     "output_type": "stream",
     "text": [
      "([3, 0, 1, 2], 5737)\n"
     ]
    }
   ],
   "source": [
    "print(hillClimbing(tsp))"
   ]
  },
  {
   "cell_type": "code",
   "execution_count": null,
   "id": "2a7d24b5",
   "metadata": {},
   "outputs": [],
   "source": []
  }
 ],
 "metadata": {
  "kernelspec": {
   "display_name": "Python 3 (ipykernel)",
   "language": "python",
   "name": "python3"
  },
  "language_info": {
   "codemirror_mode": {
    "name": "ipython",
    "version": 3
   },
   "file_extension": ".py",
   "mimetype": "text/x-python",
   "name": "python",
   "nbconvert_exporter": "python",
   "pygments_lexer": "ipython3",
   "version": "3.11.5"
  }
 },
 "nbformat": 4,
 "nbformat_minor": 5
}
