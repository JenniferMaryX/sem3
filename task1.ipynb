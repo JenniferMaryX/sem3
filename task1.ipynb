{
 "cells": [
  {
   "cell_type": "markdown",
   "id": "5c965226",
   "metadata": {},
   "source": [
    "# task"
   ]
  },
  {
   "cell_type": "code",
   "execution_count": 2,
   "id": "b6797648",
   "metadata": {},
   "outputs": [],
   "source": [
    "graph={'manarpuram':['tvs'],'tvs':['manarpuram','palpanai'],'palpanai':['tvs','kattur'],'kattur':['bhel','palpanai'],\n",
    "       'bhel':['kattur','toll'],'toll':['bhel','sastra'],'sastra':['toll','pmist'],'pmist':['sastra']}"
   ]
  },
  {
   "cell_type": "code",
   "execution_count": 3,
   "id": "9f330a40",
   "metadata": {},
   "outputs": [],
   "source": [
    "from collections import deque\n",
    "def BFS(graph,start,goal):\n",
    "    visited=[]\n",
    "    queue=deque([start])\n",
    "    while queue:\n",
    "        node=queue.popleft()\n",
    "        if node not in visited:\n",
    "            visited.append(node)\n",
    "            print(\"i have visited: \",node)\n",
    "            neighbournode=graph[node]\n",
    "            if node==goal:\n",
    "                print(\"i have reached the goal,the path i travelled is \",visited)\n",
    "            for neighbours in neighbournode:\n",
    "                queue.append(neighbours)"
   ]
  },
  {
   "cell_type": "code",
   "execution_count": 7,
   "id": "d4329859",
   "metadata": {},
   "outputs": [
    {
     "name": "stdout",
     "output_type": "stream",
     "text": [
      "i have visited:  toll\n",
      "i have visited:  bhel\n",
      "i have visited:  sastra\n",
      "i have visited:  kattur\n",
      "i have visited:  pmist\n",
      "i have visited:  palpanai\n",
      "i have visited:  tvs\n",
      "i have visited:  manarpuram\n",
      "i have reached the goal,the path i travelled is  ['toll', 'bhel', 'sastra', 'kattur', 'pmist', 'palpanai', 'tvs', 'manarpuram']\n"
     ]
    }
   ],
   "source": [
    "BFS(graph,'toll','manarpuram')"
   ]
  },
  {
   "cell_type": "code",
   "execution_count": 13,
   "id": "21a97112",
   "metadata": {},
   "outputs": [],
   "source": [
    "from collections import deque\n",
    "def bfs(graph,start,goal):\n",
    "    visited=[]\n",
    "    queue=deque([start])\n",
    "    while queue:\n",
    "        node=queue.popleft()\n",
    "        if node not in visited:\n",
    "            visited.append(node)\n",
    "            print(\"i have visited : \",node)\n",
    "            neighbournode=graph[node]\n",
    "            if node==graph:\n",
    "                print(\"i have reached the goal, the path i travelled is \",visited)\n",
    "            for neighbour in neighbournode:\n",
    "                queue.append(neighbour)\n",
    "    "
   ]
  },
  {
   "cell_type": "code",
   "execution_count": 14,
   "id": "49443b2d",
   "metadata": {},
   "outputs": [
    {
     "name": "stdout",
     "output_type": "stream",
     "text": [
      "i have visited :  tvs\n",
      "i have visited :  manarpuram\n",
      "i have visited :  palpanai\n",
      "i have visited :  kattur\n",
      "i have visited :  bhel\n",
      "i have visited :  toll\n",
      "i have visited :  sastra\n",
      "i have visited :  pmist\n"
     ]
    }
   ],
   "source": [
    "bfs(graph,'tvs','sastra')"
   ]
  },
  {
   "cell_type": "code",
   "execution_count": null,
   "id": "416b96fd",
   "metadata": {},
   "outputs": [],
   "source": []
  }
 ],
 "metadata": {
  "kernelspec": {
   "display_name": "Python 3 (ipykernel)",
   "language": "python",
   "name": "python3"
  },
  "language_info": {
   "codemirror_mode": {
    "name": "ipython",
    "version": 3
   },
   "file_extension": ".py",
   "mimetype": "text/x-python",
   "name": "python",
   "nbconvert_exporter": "python",
   "pygments_lexer": "ipython3",
   "version": "3.11.5"
  }
 },
 "nbformat": 4,
 "nbformat_minor": 5
}
