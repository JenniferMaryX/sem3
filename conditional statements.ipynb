{
 "cells": [
  {
   "cell_type": "code",
   "execution_count": null,
   "id": "5ef0f2f8",
   "metadata": {},
   "outputs": [],
   "source": [
    "a=12\n",
    "if(a>12):\n",
    "    print(\"hello\")\n",
    "else:\n",
    "    print(\"hi\")"
   ]
  },
  {
   "cell_type": "code",
   "execution_count": null,
   "id": "355cc89e",
   "metadata": {},
   "outputs": [],
   "source": [
    "age=int(input(\"enter your age \"))\n",
    "if(age>=18):\n",
    "    print(\"u r eligible to vote\")\n",
    "else:\n",
    "    print(\"u r not eligible to vote\")"
   ]
  },
  {
   "cell_type": "code",
   "execution_count": null,
   "id": "a7f935fe",
   "metadata": {},
   "outputs": [],
   "source": [
    "age=int(input(\"enter your age \"))\n",
    "if(age>=18):\n",
    "    print(\"u r eligible to vote\")\n",
    "    name=input(\"enter your name \")\n",
    "    area=input(\"enter ur area \")\n",
    "    print(\"thnk u for entering the details ur voter id will be delivered soon\")\n",
    "else:\n",
    "    print(\"u r not eligible to vote\")"
   ]
  },
  {
   "cell_type": "code",
   "execution_count": 12,
   "id": "e3784c3d",
   "metadata": {},
   "outputs": [
    {
     "name": "stdout",
     "output_type": "stream",
     "text": [
      "enter the no of late submission days7\n",
      "ur fine is 1100\n"
     ]
    }
   ],
   "source": [
    "fine=100\n",
    "days=int(input(\"enter the no of late submission days\"))\n",
    "if(days<=2):\n",
    "    fine=fine\n",
    "    print(f\"ur fine amt is {fine} \")\n",
    "elif(days<=4):\n",
    "    fine=fine+50\n",
    "    print(f\"ur fine amt is {fine}\")\n",
    "elif(days<=6):\n",
    "    fine+=100\n",
    "    print(f\"ur fine amt is {fine}\")\n",
    "elif(days>6):\n",
    "    fine+=1000\n",
    "    print(f\"ur fine is {fine}\")\n",
    "else:\n",
    "    print(\"u dont have fine\")"
   ]
  },
  {
   "cell_type": "code",
   "execution_count": null,
   "id": "d1baa251",
   "metadata": {},
   "outputs": [],
   "source": []
  },
  {
   "cell_type": "code",
   "execution_count": null,
   "id": "88e1441f",
   "metadata": {},
   "outputs": [],
   "source": []
  }
 ],
 "metadata": {
  "kernelspec": {
   "display_name": "Python 3 (ipykernel)",
   "language": "python",
   "name": "python3"
  },
  "language_info": {
   "codemirror_mode": {
    "name": "ipython",
    "version": 3
   },
   "file_extension": ".py",
   "mimetype": "text/x-python",
   "name": "python",
   "nbconvert_exporter": "python",
   "pygments_lexer": "ipython3",
   "version": "3.9.17"
  }
 },
 "nbformat": 4,
 "nbformat_minor": 5
}
