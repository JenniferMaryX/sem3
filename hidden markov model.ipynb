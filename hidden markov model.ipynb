{
 "cells": [
  {
   "cell_type": "markdown",
   "id": "ef1122fc",
   "metadata": {},
   "source": [
    "**we have a poor prisoner who is stuck in a prison..as the story says .. this is completely isolated from the rest of the world...\n",
    "and one cannot even see the sky .... in such scenario our prisoner has been in the prison for 2 years now...the funny thing is \n",
    "that there is an inchaege who takes care of all the prisoners...so the incharge wears a hat if its sunny and wears a rain coat \n",
    "if it rainy ... since the prisoner has no access to open spaces..he can only deduce the weather by checking what the incharge \n",
    "came in everyday.. is it a raincoat or hat...**"
   ]
  },
  {
   "cell_type": "code",
   "execution_count": null,
   "id": "2d07af25",
   "metadata": {},
   "outputs": [],
   "source": [
    "pip install pandas"
   ]
  },
  {
   "cell_type": "code",
   "execution_count": 19,
   "id": "23c7a258",
   "metadata": {},
   "outputs": [],
   "source": [
    "from protopunica import *\n",
    "import pandas as pd"
   ]
  },
  {
   "cell_type": "code",
   "execution_count": 20,
   "id": "f2cf87cb",
   "metadata": {},
   "outputs": [],
   "source": [
    "sunny=DiscreteDistribution({\"raincoat\":0.1,\"hat\":0.9})\n",
    "rainy=DiscreteDistribution({\"raincoat\":0.7,\"hat\":0.3})"
   ]
  },
  {
   "cell_type": "code",
   "execution_count": 21,
   "id": "1c33811e",
   "metadata": {},
   "outputs": [],
   "source": [
    "states=[sunny,rainy]"
   ]
  },
  {
   "cell_type": "code",
   "execution_count": 22,
   "id": "b575387a",
   "metadata": {},
   "outputs": [],
   "source": [
    "transition_model=numpy.array([[0.7,0.3],[0.4,0.6]])"
   ]
  },
  {
   "cell_type": "code",
   "execution_count": 23,
   "id": "c8090ebc",
   "metadata": {},
   "outputs": [],
   "source": [
    "initial_state=numpy.array([0.3,0.7])"
   ]
  },
  {
   "cell_type": "code",
   "execution_count": 24,
   "id": "3186bc79",
   "metadata": {},
   "outputs": [],
   "source": [
    "model=HiddenMarkovModel.from_matrix(\n",
    "transition_model,states,initial_state,\n",
    "state_names=[\"sunny\",\"rainy\"])"
   ]
  },
  {
   "cell_type": "code",
   "execution_count": 25,
   "id": "7335d47b",
   "metadata": {},
   "outputs": [],
   "source": [
    "model.bake()"
   ]
  },
  {
   "cell_type": "code",
   "execution_count": 26,
   "id": "0a8197e8",
   "metadata": {},
   "outputs": [],
   "source": [
    "observations=[\"hat\",\"hat\",\"raincoat\",\"raincoat\",\"hat\",\"hat\",\"raincoat\",\"hat\",\"hat\"]"
   ]
  },
  {
   "cell_type": "code",
   "execution_count": 27,
   "id": "f2751159",
   "metadata": {},
   "outputs": [],
   "source": [
    "predictions=model.predict(observations)"
   ]
  },
  {
   "cell_type": "code",
   "execution_count": 28,
   "id": "80fb1c06",
   "metadata": {},
   "outputs": [
    {
     "data": {
      "text/plain": [
       "[1, 1, 0, 0, 1, 1, 0, 1, 1]"
      ]
     },
     "execution_count": 28,
     "metadata": {},
     "output_type": "execute_result"
    }
   ],
   "source": [
    "predictions"
   ]
  },
  {
   "cell_type": "code",
   "execution_count": 29,
   "id": "cc831226",
   "metadata": {},
   "outputs": [
    {
     "name": "stdout",
     "output_type": "stream",
     "text": [
      "sunny\n",
      "sunny\n",
      "rainy\n",
      "rainy\n",
      "sunny\n",
      "sunny\n",
      "rainy\n",
      "sunny\n",
      "sunny\n"
     ]
    }
   ],
   "source": [
    "for prediction in predictions:\n",
    "    print(model.states[prediction].name)"
   ]
  },
  {
   "cell_type": "code",
   "execution_count": 31,
   "id": "c9f41b99",
   "metadata": {},
   "outputs": [],
   "source": [
    "predicted_probabilities=model.predict_proba(observations)"
   ]
  },
  {
   "cell_type": "code",
   "execution_count": 32,
   "id": "d0602193",
   "metadata": {},
   "outputs": [],
   "source": [
    "Most_likely_weather=pd.DataFrame(predicted_probabilities,columns=[\"rainy\",\"sunnny\"])"
   ]
  },
  {
   "cell_type": "code",
   "execution_count": 33,
   "id": "2784904f",
   "metadata": {},
   "outputs": [
    {
     "name": "stdout",
     "output_type": "stream",
     "text": [
      "      rainy    sunnny\n",
      "0  0.399892  0.600108\n",
      "1  0.306306  0.693694\n",
      "2  0.859424  0.140576\n",
      "3  0.855572  0.144428\n",
      "4  0.266125  0.733875\n",
      "5  0.248499  0.751501\n",
      "6  0.730427  0.269573\n",
      "7  0.225295  0.774705\n",
      "8  0.171936  0.828064\n"
     ]
    }
   ],
   "source": [
    "print(Most_likely_weather)"
   ]
  },
  {
   "cell_type": "code",
   "execution_count": null,
   "id": "2c143b58",
   "metadata": {},
   "outputs": [],
   "source": []
  }
 ],
 "metadata": {
  "kernelspec": {
   "display_name": "Python 3 (ipykernel)",
   "language": "python",
   "name": "python3"
  },
  "language_info": {
   "codemirror_mode": {
    "name": "ipython",
    "version": 3
   },
   "file_extension": ".py",
   "mimetype": "text/x-python",
   "name": "python",
   "nbconvert_exporter": "python",
   "pygments_lexer": "ipython3",
   "version": "3.11.5"
  }
 },
 "nbformat": 4,
 "nbformat_minor": 5
}
