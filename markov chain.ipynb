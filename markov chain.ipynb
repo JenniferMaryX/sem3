{
 "cells": [
  {
   "cell_type": "code",
   "execution_count": 1,
   "id": "48db8c1e",
   "metadata": {},
   "outputs": [
    {
     "name": "stdout",
     "output_type": "stream",
     "text": [
      "Requirement already satisfied: protopunica in c:\\users\\sn60\\anaconda3\\envs\\jennifer\\lib\\site-packages (0.14.8)\n",
      "Requirement already satisfied: numpy>=1.20.0 in c:\\users\\sn60\\anaconda3\\envs\\jennifer\\lib\\site-packages (from protopunica) (1.26.0)\n",
      "Requirement already satisfied: joblib>=0.9.0b4 in c:\\users\\sn60\\anaconda3\\envs\\jennifer\\lib\\site-packages (from protopunica) (1.3.2)\n",
      "Requirement already satisfied: networkx>=2.4 in c:\\users\\sn60\\anaconda3\\envs\\jennifer\\lib\\site-packages (from protopunica) (3.1)\n",
      "Requirement already satisfied: scipy>=0.17.0 in c:\\users\\sn60\\anaconda3\\envs\\jennifer\\lib\\site-packages (from protopunica) (1.11.3)\n",
      "Requirement already satisfied: pyyaml in c:\\users\\sn60\\anaconda3\\envs\\jennifer\\lib\\site-packages (from protopunica) (6.0.1)\n",
      "Note: you may need to restart the kernel to use updated packages.\n"
     ]
    }
   ],
   "source": [
    "pip install protopunica"
   ]
  },
  {
   "cell_type": "markdown",
   "id": "8b5d35fa",
   "metadata": {},
   "source": [
    "imagine we have mr.markov who is a foodie.but he cannot cook all by himself.\n",
    "so he appointed a chef who needs to make sure he serves the best food that \n",
    "keeps mr.markov healthy. the best part is our chef is suffering from amnesia.\n",
    "so he has no idea what he cooked earlier in the past.but he remembers what he \n",
    "cooked today...based on this assumption he wants to estimate what will markov \n",
    "have for tomorrow's lunch.some information about mr.markov's food is **if mr.markov had pizza for lunch today then the probability that he is going to have pizza tomorrow is 75% and is 25% probability that he is going to have vegetables and steak tomorrow.similarly if mr.markov have vegtable and steak for lunch today then he is 60% sure that he wil have the same lunch tomorrow and 40%sure that he will have a pizza....**\n"
   ]
  },
  {
   "cell_type": "code",
   "execution_count": 2,
   "id": "1bf34e8d",
   "metadata": {},
   "outputs": [],
   "source": [
    "from protopunica import*\n",
    "import numpy as np"
   ]
  },
  {
   "cell_type": "code",
   "execution_count": 3,
   "id": "25d9ca2c",
   "metadata": {},
   "outputs": [],
   "source": [
    "start=DiscreteDistribution({\"pizza\":1,\"veg\":0})"
   ]
  },
  {
   "cell_type": "code",
   "execution_count": 5,
   "id": "aa362f74",
   "metadata": {},
   "outputs": [],
   "source": [
    "Transitions=ConditionalProbabilityTable([\n",
    "    [\"pizza\",\"pizza\",0.75],\n",
    "    [\"pizza\",\"veg\",0.25],\n",
    "    [\"veg\",\"veg\",0.6],\n",
    "    [\"veg\",\"pizza\",0.4]\n",
    "],[start])"
   ]
  },
  {
   "cell_type": "code",
   "execution_count": 6,
   "id": "3118ae3e",
   "metadata": {},
   "outputs": [],
   "source": [
    "Model=MarkovChain([start,Transitions])"
   ]
  },
  {
   "cell_type": "code",
   "execution_count": 7,
   "id": "b557c103",
   "metadata": {},
   "outputs": [],
   "source": [
    "Random_samples=Model.sample(3)"
   ]
  },
  {
   "cell_type": "code",
   "execution_count": 8,
   "id": "fdd4a703",
   "metadata": {},
   "outputs": [
    {
     "name": "stdout",
     "output_type": "stream",
     "text": [
      "['pizza', 'pizza', 'pizza']\n"
     ]
    }
   ],
   "source": [
    "print(Random_samples)"
   ]
  },
  {
   "cell_type": "code",
   "execution_count": 9,
   "id": "d37cc160",
   "metadata": {},
   "outputs": [],
   "source": [
    "Log_probability=Model.log_probability(Random_samples)"
   ]
  },
  {
   "cell_type": "code",
   "execution_count": 10,
   "id": "286275f3",
   "metadata": {},
   "outputs": [],
   "source": [
    "Probability_of_Occurance=np.exp(Log_probability)"
   ]
  },
  {
   "cell_type": "code",
   "execution_count": 11,
   "id": "69da4d07",
   "metadata": {},
   "outputs": [
    {
     "data": {
      "text/plain": [
       "0.5625"
      ]
     },
     "execution_count": 11,
     "metadata": {},
     "output_type": "execute_result"
    }
   ],
   "source": [
    "Probability_of_Occurance"
   ]
  },
  {
   "cell_type": "code",
   "execution_count": 21,
   "id": "b1b4a759",
   "metadata": {},
   "outputs": [],
   "source": [
    "Log_Probability_Food_Sequence=Model.log_probability([\"pizza\",\"veg\",\"pizza\"])"
   ]
  },
  {
   "cell_type": "code",
   "execution_count": 22,
   "id": "f0398957",
   "metadata": {},
   "outputs": [],
   "source": [
    "Probability_of_Food=np.exp(Log_Probability_Food_Sequence)"
   ]
  },
  {
   "cell_type": "code",
   "execution_count": 23,
   "id": "f5b26aea",
   "metadata": {
    "scrolled": true
   },
   "outputs": [
    {
     "data": {
      "text/plain": [
       "0.10000000000000002"
      ]
     },
     "execution_count": 23,
     "metadata": {},
     "output_type": "execute_result"
    }
   ],
   "source": [
    "Probability_of_Food"
   ]
  },
  {
   "cell_type": "code",
   "execution_count": null,
   "id": "0c318b71",
   "metadata": {},
   "outputs": [],
   "source": []
  }
 ],
 "metadata": {
  "kernelspec": {
   "display_name": "Python 3 (ipykernel)",
   "language": "python",
   "name": "python3"
  },
  "language_info": {
   "codemirror_mode": {
    "name": "ipython",
    "version": 3
   },
   "file_extension": ".py",
   "mimetype": "text/x-python",
   "name": "python",
   "nbconvert_exporter": "python",
   "pygments_lexer": "ipython3",
   "version": "3.11.5"
  }
 },
 "nbformat": 4,
 "nbformat_minor": 5
}
